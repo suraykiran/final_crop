{
 "cells": [
  {
   "cell_type": "code",
   "execution_count": 1,
   "id": "c76fa5c8",
   "metadata": {},
   "outputs": [
    {
     "name": "stdout",
     "output_type": "stream",
     "text": [
      " * Serving Flask app '__main__'\n",
      " * Debug mode: off\n"
     ]
    },
    {
     "name": "stderr",
     "output_type": "stream",
     "text": [
      "WARNING: This is a development server. Do not use it in a production deployment. Use a production WSGI server instead.\n",
      " * Running on http://127.0.0.1:5000\n",
      "Press CTRL+C to quit\n",
      "127.0.0.1 - - [20/Jul/2023 15:17:22] \"GET / HTTP/1.1\" 200 -\n",
      "127.0.0.1 - - [20/Jul/2023 15:17:22] \"GET /favicon.ico HTTP/1.1\" 404 -\n",
      "127.0.0.1 - - [20/Jul/2023 15:17:38] \"POST /predict HTTP/1.1\" 405 -\n"
     ]
    }
   ],
   "source": [
    "import numpy as np\n",
    "import pickle\n",
    "from flask import Flask, request, jsonify, render_template\n",
    "import math\n",
    "app = Flask(__name__)\n",
    "\n",
    "modl = pickle.load(open('rfmodel.pkl','rb'))\n",
    "\n",
    "@app.route('/')\n",
    "def Home():\n",
    "    return render_template('ne.html')\n",
    "@app.route('/predict',methods=['GET''POST'])\n",
    "def predict():\n",
    "    n = request.form['N']\n",
    "    p = request.form['P']\n",
    "    k = request.form['K']\n",
    "    tem = float(request.form['temperature'])\n",
    "    hum = float(request.form['humidity'])\n",
    "    ph = float(request.form['ph'])\n",
    "    rain = float(request.form['rainfall'])\n",
    "    values = np.array([[n,p,k,tem,hum,ph,rain]])\n",
    "    \n",
    "    result = modl.predict(values)\n",
    "    return render_template('res.html',predicted_crop=result)\n",
    "\n",
    "if __name__==\"__main__\":\n",
    "    app.run()"
   ]
  },
  {
   "cell_type": "code",
   "execution_count": null,
   "id": "0c6d8469",
   "metadata": {},
   "outputs": [],
   "source": []
  },
  {
   "cell_type": "code",
   "execution_count": null,
   "id": "cb1015bb",
   "metadata": {},
   "outputs": [],
   "source": []
  },
  {
   "cell_type": "code",
   "execution_count": null,
   "id": "f75f11b0",
   "metadata": {},
   "outputs": [],
   "source": []
  }
 ],
 "metadata": {
  "kernelspec": {
   "display_name": "Python 3 (ipykernel)",
   "language": "python",
   "name": "python3"
  },
  "language_info": {
   "codemirror_mode": {
    "name": "ipython",
    "version": 3
   },
   "file_extension": ".py",
   "mimetype": "text/x-python",
   "name": "python",
   "nbconvert_exporter": "python",
   "pygments_lexer": "ipython3",
   "version": "3.11.4"
  }
 },
 "nbformat": 4,
 "nbformat_minor": 5
}
